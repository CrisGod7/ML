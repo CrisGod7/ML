{
 "cells": [
  {
   "cell_type": "markdown",
   "metadata": {},
   "source": [
    "# Capitulo 2. Proyecto de Machine Learning"
   ]
  },
  {
   "cell_type": "markdown",
   "metadata": {},
   "source": [
    "👀: verifica que si hayas instalado las librerías que vas a necesitar"
   ]
  },
  {
   "cell_type": "markdown",
   "metadata": {},
   "source": [
    "En este caso se realizará un modelo para predecir la media de precios en las viviendas de los diferentes municipos de Londres, Reino Unido 🇬🇧."
   ]
  },
  {
   "cell_type": "markdown",
   "metadata": {},
   "source": [
    "## <span style=\"color:green\">1. Descargar los datos</span>"
   ]
  },
  {
   "cell_type": "markdown",
   "metadata": {},
   "source": [
    "Las bases de datos para este proyecto se puede encontrar en este enlace: https://www.kaggle.com/justinas/housing-in-london\n",
    "\n",
    "También se pueden consultar todas las bases de datos de este curso en GitHub:https://github.com/a2Proyectos/MachineLearning_Data\n",
    "\n",
    "- housing_in_london_yearly_variables.csv, con los datos que necesitamos para hacer la regresión.\n",
    "- London_Borough_Excluding_MHW.shp, con los datos que necesitamos para graficar Londres.\n",
    "- Capitulo_2/housing_in_london_monthly_variables.csv, con los datos de la media salarial"
   ]
  },
  {
   "cell_type": "code",
   "metadata": {
    "ExecuteTime": {
     "end_time": "2024-08-06T19:12:12.590850Z",
     "start_time": "2024-08-06T19:12:12.587595Z"
    }
   },
   "source": [
    "## Importamos nuestras librerias principales panda, numpy, matplotlib, os \n",
    "import pandas as pd\n",
    "import numpy as np\n",
    "import matplotlib.pyplot as plt\n",
    "import os"
   ],
   "outputs": [],
   "execution_count": 1
  },
  {
   "cell_type": "code",
   "metadata": {
    "ExecuteTime": {
     "end_time": "2024-08-06T19:12:13.325521Z",
     "start_time": "2024-08-06T19:12:13.320629Z"
    }
   },
   "source": [
    "## Definimos una función para extraer datos.\n",
    "#DOWNLOAD_ROOT es la base del GitHub donde vamos a estar descargando las bases de datos.\n",
    "DOWNLOAD_ROOT = \"https://raw.githubusercontent.com/a2Proyectos/MachineLearning_Data/main/\"\n",
    "#Complementos con la dirección especifica de la base de datos que queremos.\n",
    "LONDON_SALARY = \"Capitulo_2/housing_in_london_yearly_variables.csv\"\n",
    "LONDON_HOUSING = \"Capitulo_2/housing_in_london_monthly_variables.csv\"\n",
    "#LONDON_MAP = os.path.abspath(\"\") + \"\\map\\London_Borough_Excluding_MHW.shp\"\n",
    "\n",
    "\n",
    "def extraer_datos(root,database):\n",
    "    csv_path = root + database\n",
    "    return pd.read_csv(csv_path)\n"
   ],
   "outputs": [],
   "execution_count": 2
  },
  {
   "cell_type": "markdown",
   "metadata": {},
   "source": [
    "***"
   ]
  },
  {
   "cell_type": "markdown",
   "metadata": {},
   "source": [
    "## <span style=\"color:green\">2. Vistazo a la Base de Datos</span>"
   ]
  },
  {
   "cell_type": "code",
   "metadata": {
    "ExecuteTime": {
     "end_time": "2024-08-06T19:12:14.401005Z",
     "start_time": "2024-08-06T19:12:13.358424Z"
    }
   },
   "source": [
    "## Juntamos nuestra base de datos de la media salarial, con la de datos de Londres.\n",
    "df1 = extraer_datos(DOWNLOAD_ROOT, LONDON_SALARY)\n",
    "df2 = extraer_datos(DOWNLOAD_ROOT, LONDON_HOUSING)\n",
    "df1.head()"
   ],
   "outputs": [
    {
     "data": {
      "text/plain": [
       "        code                  area        date  median_salary  \\\n",
       "0  E09000001        city of london  1999-12-01        33020.0   \n",
       "1  E09000002  barking and dagenham  1999-12-01        21480.0   \n",
       "2  E09000003                barnet  1999-12-01        19568.0   \n",
       "3  E09000004                bexley  1999-12-01        18621.0   \n",
       "4  E09000005                 brent  1999-12-01        18532.0   \n",
       "\n",
       "   life_satisfaction mean_salary recycling_pct  population_size  \\\n",
       "0                NaN       48922             0           6581.0   \n",
       "1                NaN       23620             3         162444.0   \n",
       "2                NaN       23128             8         313469.0   \n",
       "3                NaN       21386            18         217458.0   \n",
       "4                NaN       20911             6         260317.0   \n",
       "\n",
       "   number_of_jobs  area_size  no_of_houses  borough_flag  \n",
       "0             NaN        NaN           NaN             1  \n",
       "1             NaN        NaN           NaN             1  \n",
       "2             NaN        NaN           NaN             1  \n",
       "3             NaN        NaN           NaN             1  \n",
       "4             NaN        NaN           NaN             1  "
      ],
      "text/html": [
       "<div>\n",
       "<style scoped>\n",
       "    .dataframe tbody tr th:only-of-type {\n",
       "        vertical-align: middle;\n",
       "    }\n",
       "\n",
       "    .dataframe tbody tr th {\n",
       "        vertical-align: top;\n",
       "    }\n",
       "\n",
       "    .dataframe thead th {\n",
       "        text-align: right;\n",
       "    }\n",
       "</style>\n",
       "<table border=\"1\" class=\"dataframe\">\n",
       "  <thead>\n",
       "    <tr style=\"text-align: right;\">\n",
       "      <th></th>\n",
       "      <th>code</th>\n",
       "      <th>area</th>\n",
       "      <th>date</th>\n",
       "      <th>median_salary</th>\n",
       "      <th>life_satisfaction</th>\n",
       "      <th>mean_salary</th>\n",
       "      <th>recycling_pct</th>\n",
       "      <th>population_size</th>\n",
       "      <th>number_of_jobs</th>\n",
       "      <th>area_size</th>\n",
       "      <th>no_of_houses</th>\n",
       "      <th>borough_flag</th>\n",
       "    </tr>\n",
       "  </thead>\n",
       "  <tbody>\n",
       "    <tr>\n",
       "      <th>0</th>\n",
       "      <td>E09000001</td>\n",
       "      <td>city of london</td>\n",
       "      <td>1999-12-01</td>\n",
       "      <td>33020.0</td>\n",
       "      <td>NaN</td>\n",
       "      <td>48922</td>\n",
       "      <td>0</td>\n",
       "      <td>6581.0</td>\n",
       "      <td>NaN</td>\n",
       "      <td>NaN</td>\n",
       "      <td>NaN</td>\n",
       "      <td>1</td>\n",
       "    </tr>\n",
       "    <tr>\n",
       "      <th>1</th>\n",
       "      <td>E09000002</td>\n",
       "      <td>barking and dagenham</td>\n",
       "      <td>1999-12-01</td>\n",
       "      <td>21480.0</td>\n",
       "      <td>NaN</td>\n",
       "      <td>23620</td>\n",
       "      <td>3</td>\n",
       "      <td>162444.0</td>\n",
       "      <td>NaN</td>\n",
       "      <td>NaN</td>\n",
       "      <td>NaN</td>\n",
       "      <td>1</td>\n",
       "    </tr>\n",
       "    <tr>\n",
       "      <th>2</th>\n",
       "      <td>E09000003</td>\n",
       "      <td>barnet</td>\n",
       "      <td>1999-12-01</td>\n",
       "      <td>19568.0</td>\n",
       "      <td>NaN</td>\n",
       "      <td>23128</td>\n",
       "      <td>8</td>\n",
       "      <td>313469.0</td>\n",
       "      <td>NaN</td>\n",
       "      <td>NaN</td>\n",
       "      <td>NaN</td>\n",
       "      <td>1</td>\n",
       "    </tr>\n",
       "    <tr>\n",
       "      <th>3</th>\n",
       "      <td>E09000004</td>\n",
       "      <td>bexley</td>\n",
       "      <td>1999-12-01</td>\n",
       "      <td>18621.0</td>\n",
       "      <td>NaN</td>\n",
       "      <td>21386</td>\n",
       "      <td>18</td>\n",
       "      <td>217458.0</td>\n",
       "      <td>NaN</td>\n",
       "      <td>NaN</td>\n",
       "      <td>NaN</td>\n",
       "      <td>1</td>\n",
       "    </tr>\n",
       "    <tr>\n",
       "      <th>4</th>\n",
       "      <td>E09000005</td>\n",
       "      <td>brent</td>\n",
       "      <td>1999-12-01</td>\n",
       "      <td>18532.0</td>\n",
       "      <td>NaN</td>\n",
       "      <td>20911</td>\n",
       "      <td>6</td>\n",
       "      <td>260317.0</td>\n",
       "      <td>NaN</td>\n",
       "      <td>NaN</td>\n",
       "      <td>NaN</td>\n",
       "      <td>1</td>\n",
       "    </tr>\n",
       "  </tbody>\n",
       "</table>\n",
       "</div>"
      ]
     },
     "execution_count": 3,
     "metadata": {},
     "output_type": "execute_result"
    }
   ],
   "execution_count": 3
  },
  {
   "cell_type": "code",
   "metadata": {
    "ExecuteTime": {
     "end_time": "2024-08-06T19:12:14.413446Z",
     "start_time": "2024-08-06T19:12:14.403024Z"
    }
   },
   "source": [
    "#Filtrar los datos \n",
    "df1 = df1.filter(items=[\"median_salary\",\"area\",\"date\"])\n",
    "df1.head()"
   ],
   "outputs": [
    {
     "data": {
      "text/plain": [
       "   median_salary                  area        date\n",
       "0        33020.0        city of london  1999-12-01\n",
       "1        21480.0  barking and dagenham  1999-12-01\n",
       "2        19568.0                barnet  1999-12-01\n",
       "3        18621.0                bexley  1999-12-01\n",
       "4        18532.0                 brent  1999-12-01"
      ],
      "text/html": [
       "<div>\n",
       "<style scoped>\n",
       "    .dataframe tbody tr th:only-of-type {\n",
       "        vertical-align: middle;\n",
       "    }\n",
       "\n",
       "    .dataframe tbody tr th {\n",
       "        vertical-align: top;\n",
       "    }\n",
       "\n",
       "    .dataframe thead th {\n",
       "        text-align: right;\n",
       "    }\n",
       "</style>\n",
       "<table border=\"1\" class=\"dataframe\">\n",
       "  <thead>\n",
       "    <tr style=\"text-align: right;\">\n",
       "      <th></th>\n",
       "      <th>median_salary</th>\n",
       "      <th>area</th>\n",
       "      <th>date</th>\n",
       "    </tr>\n",
       "  </thead>\n",
       "  <tbody>\n",
       "    <tr>\n",
       "      <th>0</th>\n",
       "      <td>33020.0</td>\n",
       "      <td>city of london</td>\n",
       "      <td>1999-12-01</td>\n",
       "    </tr>\n",
       "    <tr>\n",
       "      <th>1</th>\n",
       "      <td>21480.0</td>\n",
       "      <td>barking and dagenham</td>\n",
       "      <td>1999-12-01</td>\n",
       "    </tr>\n",
       "    <tr>\n",
       "      <th>2</th>\n",
       "      <td>19568.0</td>\n",
       "      <td>barnet</td>\n",
       "      <td>1999-12-01</td>\n",
       "    </tr>\n",
       "    <tr>\n",
       "      <th>3</th>\n",
       "      <td>18621.0</td>\n",
       "      <td>bexley</td>\n",
       "      <td>1999-12-01</td>\n",
       "    </tr>\n",
       "    <tr>\n",
       "      <th>4</th>\n",
       "      <td>18532.0</td>\n",
       "      <td>brent</td>\n",
       "      <td>1999-12-01</td>\n",
       "    </tr>\n",
       "  </tbody>\n",
       "</table>\n",
       "</div>"
      ]
     },
     "execution_count": 4,
     "metadata": {},
     "output_type": "execute_result"
    }
   ],
   "execution_count": 4
  },
  {
   "cell_type": "code",
   "metadata": {
    "ExecuteTime": {
     "end_time": "2024-08-06T19:12:14.432054Z",
     "start_time": "2024-08-06T19:12:14.414455Z"
    }
   },
   "source": [
    "#Fusionar los dos dataframe\n",
    "data = pd.merge(df1,df2)\n",
    "data.head()"
   ],
   "outputs": [
    {
     "data": {
      "text/plain": [
       "   median_salary                  area        date  average_price       code  \\\n",
       "0        33020.0        city of london  1999-12-01         169309  E09000001   \n",
       "1        21480.0  barking and dagenham  1999-12-01          68812  E09000002   \n",
       "2        19568.0                barnet  1999-12-01         149510  E09000003   \n",
       "3        18621.0                bexley  1999-12-01          93905  E09000004   \n",
       "4        18532.0                 brent  1999-12-01         123398  E09000005   \n",
       "\n",
       "   houses_sold  no_of_crimes  borough_flag  \n",
       "0         97.0           NaN             1  \n",
       "1        267.0           NaN             1  \n",
       "2        619.0           NaN             1  \n",
       "3        460.0           NaN             1  \n",
       "4        395.0           NaN             1  "
      ],
      "text/html": [
       "<div>\n",
       "<style scoped>\n",
       "    .dataframe tbody tr th:only-of-type {\n",
       "        vertical-align: middle;\n",
       "    }\n",
       "\n",
       "    .dataframe tbody tr th {\n",
       "        vertical-align: top;\n",
       "    }\n",
       "\n",
       "    .dataframe thead th {\n",
       "        text-align: right;\n",
       "    }\n",
       "</style>\n",
       "<table border=\"1\" class=\"dataframe\">\n",
       "  <thead>\n",
       "    <tr style=\"text-align: right;\">\n",
       "      <th></th>\n",
       "      <th>median_salary</th>\n",
       "      <th>area</th>\n",
       "      <th>date</th>\n",
       "      <th>average_price</th>\n",
       "      <th>code</th>\n",
       "      <th>houses_sold</th>\n",
       "      <th>no_of_crimes</th>\n",
       "      <th>borough_flag</th>\n",
       "    </tr>\n",
       "  </thead>\n",
       "  <tbody>\n",
       "    <tr>\n",
       "      <th>0</th>\n",
       "      <td>33020.0</td>\n",
       "      <td>city of london</td>\n",
       "      <td>1999-12-01</td>\n",
       "      <td>169309</td>\n",
       "      <td>E09000001</td>\n",
       "      <td>97.0</td>\n",
       "      <td>NaN</td>\n",
       "      <td>1</td>\n",
       "    </tr>\n",
       "    <tr>\n",
       "      <th>1</th>\n",
       "      <td>21480.0</td>\n",
       "      <td>barking and dagenham</td>\n",
       "      <td>1999-12-01</td>\n",
       "      <td>68812</td>\n",
       "      <td>E09000002</td>\n",
       "      <td>267.0</td>\n",
       "      <td>NaN</td>\n",
       "      <td>1</td>\n",
       "    </tr>\n",
       "    <tr>\n",
       "      <th>2</th>\n",
       "      <td>19568.0</td>\n",
       "      <td>barnet</td>\n",
       "      <td>1999-12-01</td>\n",
       "      <td>149510</td>\n",
       "      <td>E09000003</td>\n",
       "      <td>619.0</td>\n",
       "      <td>NaN</td>\n",
       "      <td>1</td>\n",
       "    </tr>\n",
       "    <tr>\n",
       "      <th>3</th>\n",
       "      <td>18621.0</td>\n",
       "      <td>bexley</td>\n",
       "      <td>1999-12-01</td>\n",
       "      <td>93905</td>\n",
       "      <td>E09000004</td>\n",
       "      <td>460.0</td>\n",
       "      <td>NaN</td>\n",
       "      <td>1</td>\n",
       "    </tr>\n",
       "    <tr>\n",
       "      <th>4</th>\n",
       "      <td>18532.0</td>\n",
       "      <td>brent</td>\n",
       "      <td>1999-12-01</td>\n",
       "      <td>123398</td>\n",
       "      <td>E09000005</td>\n",
       "      <td>395.0</td>\n",
       "      <td>NaN</td>\n",
       "      <td>1</td>\n",
       "    </tr>\n",
       "  </tbody>\n",
       "</table>\n",
       "</div>"
      ]
     },
     "execution_count": 5,
     "metadata": {},
     "output_type": "execute_result"
    }
   ],
   "execution_count": 5
  },
  {
   "cell_type": "code",
   "metadata": {
    "ExecuteTime": {
     "end_time": "2024-08-06T19:12:14.442754Z",
     "start_time": "2024-08-06T19:12:14.433062Z"
    }
   },
   "source": [
    "# Obtener información de los datos.\n",
    "\"population_size\",\"life_satisfaction\",\"number_of_houses\"\n",
    "data.info()"
   ],
   "outputs": [
    {
     "name": "stdout",
     "output_type": "stream",
     "text": [
      "<class 'pandas.core.frame.DataFrame'>\n",
      "RangeIndex: 903 entries, 0 to 902\n",
      "Data columns (total 8 columns):\n",
      " #   Column         Non-Null Count  Dtype  \n",
      "---  ------         --------------  -----  \n",
      " 0   median_salary  881 non-null    float64\n",
      " 1   area           903 non-null    object \n",
      " 2   date           903 non-null    object \n",
      " 3   average_price  903 non-null    int64  \n",
      " 4   code           903 non-null    object \n",
      " 5   houses_sold    860 non-null    float64\n",
      " 6   no_of_crimes   617 non-null    float64\n",
      " 7   borough_flag   903 non-null    int64  \n",
      "dtypes: float64(3), int64(2), object(3)\n",
      "memory usage: 56.6+ KB\n"
     ]
    }
   ],
   "execution_count": 6
  },
  {
   "cell_type": "markdown",
   "metadata": {},
   "source": [
    "👀:Comienza a ver el tipo de variable, de eso depende el análisis que le demos o si necesitamos cambiarlas a otro tipo de variable"
   ]
  },
  {
   "cell_type": "markdown",
   "metadata": {},
   "source": [
    "***"
   ]
  },
  {
   "cell_type": "code",
   "metadata": {
    "ExecuteTime": {
     "end_time": "2024-08-06T19:12:14.452995Z",
     "start_time": "2024-08-06T19:12:14.445361Z"
    }
   },
   "source": [
    "# Una forma muy común para saber que tipo de datos contiene alguna variable de tipo objeto, es contar sus valores, ejemplo:\n",
    "data[\"area\"].value_counts()"
   ],
   "outputs": [
    {
     "data": {
      "text/plain": [
       "area\n",
       "city of london            21\n",
       "westminster               21\n",
       "newham                    21\n",
       "redbridge                 21\n",
       "richmond upon thames      21\n",
       "southwark                 21\n",
       "sutton                    21\n",
       "tower hamlets             21\n",
       "waltham forest            21\n",
       "wandsworth                21\n",
       "north east                21\n",
       "lewisham                  21\n",
       "north west                21\n",
       "east midlands             21\n",
       "west midlands             21\n",
       "london                    21\n",
       "south east                21\n",
       "south west                21\n",
       "inner london              21\n",
       "outer london              21\n",
       "merton                    21\n",
       "lambeth                   21\n",
       "barking and dagenham      21\n",
       "greenwich                 21\n",
       "barnet                    21\n",
       "bexley                    21\n",
       "brent                     21\n",
       "bromley                   21\n",
       "camden                    21\n",
       "croydon                   21\n",
       "ealing                    21\n",
       "enfield                   21\n",
       "hackney                   21\n",
       "kingston upon thames      21\n",
       "hammersmith and fulham    21\n",
       "haringey                  21\n",
       "harrow                    21\n",
       "havering                  21\n",
       "hillingdon                21\n",
       "hounslow                  21\n",
       "islington                 21\n",
       "kensington and chelsea    21\n",
       "england                   21\n",
       "Name: count, dtype: int64"
      ]
     },
     "execution_count": 7,
     "metadata": {},
     "output_type": "execute_result"
    }
   ],
   "execution_count": 7
  },
  {
   "cell_type": "code",
   "metadata": {
    "ExecuteTime": {
     "end_time": "2024-08-06T19:12:14.472590Z",
     "start_time": "2024-08-06T19:12:14.454885Z"
    }
   },
   "source": [
    "# Una forma muy utilizada para obtener información de nuestros datos numéricos es el método describe(), ejemplo:\n",
    "pd.options.display.float_format = '{:,.2f}'.format\n",
    "data.describe()"
   ],
   "outputs": [
    {
     "data": {
      "text/plain": [
       "       median_salary  average_price  houses_sold  no_of_crimes  borough_flag\n",
       "count         881.00         903.00       860.00        617.00        903.00\n",
       "mean       28,789.28     309,916.87     3,853.29      2,038.09          0.77\n",
       "std         6,508.32     187,527.43    12,917.66        879.52          0.42\n",
       "min        15,684.00      48,298.00         6.00          0.00          0.00\n",
       "25%        24,582.00     189,287.00       246.00      1,542.00          1.00\n",
       "50%        28,284.00     260,893.00       351.00      2,008.00          1.00\n",
       "75%        31,589.00     387,597.00       626.00      2,402.00          1.00\n",
       "max        61,636.00   1,364,185.00   119,458.00      7,461.00          1.00"
      ],
      "text/html": [
       "<div>\n",
       "<style scoped>\n",
       "    .dataframe tbody tr th:only-of-type {\n",
       "        vertical-align: middle;\n",
       "    }\n",
       "\n",
       "    .dataframe tbody tr th {\n",
       "        vertical-align: top;\n",
       "    }\n",
       "\n",
       "    .dataframe thead th {\n",
       "        text-align: right;\n",
       "    }\n",
       "</style>\n",
       "<table border=\"1\" class=\"dataframe\">\n",
       "  <thead>\n",
       "    <tr style=\"text-align: right;\">\n",
       "      <th></th>\n",
       "      <th>median_salary</th>\n",
       "      <th>average_price</th>\n",
       "      <th>houses_sold</th>\n",
       "      <th>no_of_crimes</th>\n",
       "      <th>borough_flag</th>\n",
       "    </tr>\n",
       "  </thead>\n",
       "  <tbody>\n",
       "    <tr>\n",
       "      <th>count</th>\n",
       "      <td>881.00</td>\n",
       "      <td>903.00</td>\n",
       "      <td>860.00</td>\n",
       "      <td>617.00</td>\n",
       "      <td>903.00</td>\n",
       "    </tr>\n",
       "    <tr>\n",
       "      <th>mean</th>\n",
       "      <td>28,789.28</td>\n",
       "      <td>309,916.87</td>\n",
       "      <td>3,853.29</td>\n",
       "      <td>2,038.09</td>\n",
       "      <td>0.77</td>\n",
       "    </tr>\n",
       "    <tr>\n",
       "      <th>std</th>\n",
       "      <td>6,508.32</td>\n",
       "      <td>187,527.43</td>\n",
       "      <td>12,917.66</td>\n",
       "      <td>879.52</td>\n",
       "      <td>0.42</td>\n",
       "    </tr>\n",
       "    <tr>\n",
       "      <th>min</th>\n",
       "      <td>15,684.00</td>\n",
       "      <td>48,298.00</td>\n",
       "      <td>6.00</td>\n",
       "      <td>0.00</td>\n",
       "      <td>0.00</td>\n",
       "    </tr>\n",
       "    <tr>\n",
       "      <th>25%</th>\n",
       "      <td>24,582.00</td>\n",
       "      <td>189,287.00</td>\n",
       "      <td>246.00</td>\n",
       "      <td>1,542.00</td>\n",
       "      <td>1.00</td>\n",
       "    </tr>\n",
       "    <tr>\n",
       "      <th>50%</th>\n",
       "      <td>28,284.00</td>\n",
       "      <td>260,893.00</td>\n",
       "      <td>351.00</td>\n",
       "      <td>2,008.00</td>\n",
       "      <td>1.00</td>\n",
       "    </tr>\n",
       "    <tr>\n",
       "      <th>75%</th>\n",
       "      <td>31,589.00</td>\n",
       "      <td>387,597.00</td>\n",
       "      <td>626.00</td>\n",
       "      <td>2,402.00</td>\n",
       "      <td>1.00</td>\n",
       "    </tr>\n",
       "    <tr>\n",
       "      <th>max</th>\n",
       "      <td>61,636.00</td>\n",
       "      <td>1,364,185.00</td>\n",
       "      <td>119,458.00</td>\n",
       "      <td>7,461.00</td>\n",
       "      <td>1.00</td>\n",
       "    </tr>\n",
       "  </tbody>\n",
       "</table>\n",
       "</div>"
      ]
     },
     "execution_count": 8,
     "metadata": {},
     "output_type": "execute_result"
    }
   ],
   "execution_count": 8
  },
  {
   "cell_type": "code",
   "metadata": {
    "ExecuteTime": {
     "end_time": "2024-08-06T19:12:15.562035Z",
     "start_time": "2024-08-06T19:12:14.473600Z"
    }
   },
   "source": [
    "# Realiza un Histograma para visualizar los datos \n",
    "#matplotlib inline para aquellos que estan con jupyter notebook\n",
    "data.hist(bins=50,figsize=(15,10))\n",
    "plt.show()"
   ],
   "outputs": [
    {
     "data": {
      "text/plain": [
       "<Figure size 1500x1000 with 6 Axes>"
      ],
      "image/png": "[encoded data removed]"
     },
     "metadata": {},
     "output_type": "display_data"
    }
   ],
   "execution_count": 9
  },
  {
   "cell_type": "markdown",
   "metadata": {},
   "source": [
    "***"
   ]
  },
  {
   "cell_type": "markdown",
   "metadata": {},
   "source": [
    "## <span style=\"color:green\">3. Crear un set de entrenamiento y de prueba </span>"
   ]
  },
  {
   "cell_type": "markdown",
   "metadata": {},
   "source": [
    "Recuerden que nuestro set de prueba lo pondremos de lado por ahora, sin verlo. No sean tramposos ❌"
   ]
  },
  {
   "cell_type": "code",
   "metadata": {
    "ExecuteTime": {
     "end_time": "2024-08-06T19:12:15.805312Z",
     "start_time": "2024-08-06T19:12:15.563043Z"
    }
   },
   "source": [
    "#Importamos la función para dividir los datos train_test_split\n",
    "from sklearn.model_selection import train_test_split"
   ],
   "outputs": [],
   "execution_count": 10
  },
  {
   "cell_type": "code",
   "metadata": {
    "ExecuteTime": {
     "end_time": "2024-08-06T19:12:15.811402Z",
     "start_time": "2024-08-06T19:12:15.806318Z"
    }
   },
   "source": [
    "# Seleccionamos por ejemplo, el 30% de los datos para el set de prueba\n",
    "#Random_state es la semilla que se usa para generar números aleatorios.\n",
    "set_ent, set_prueba = train_test_split(data, test_size=0.3, random_state=45)"
   ],
   "outputs": [],
   "execution_count": 11
  },
  {
   "cell_type": "code",
   "metadata": {
    "ExecuteTime": {
     "end_time": "2024-08-06T19:12:15.816777Z",
     "start_time": "2024-08-06T19:12:15.812413Z"
    }
   },
   "source": [
    "#confirmamos la división\n",
    "print(len(set_ent),len(set_prueba))"
   ],
   "outputs": [
    {
     "name": "stdout",
     "output_type": "stream",
     "text": [
      "632 271\n"
     ]
    }
   ],
   "execution_count": 12
  },
  {
   "cell_type": "markdown",
   "metadata": {},
   "source": [
    "Ya tenemos nuestro set de prueba y nuestro set de entrenamiento ✅"
   ]
  },
  {
   "cell_type": "markdown",
   "metadata": {},
   "source": [
    "***"
   ]
  },
  {
   "cell_type": "markdown",
   "metadata": {},
   "source": [
    "### <span style=\"color:blue\">3.1 Evitar Sesgo </span>"
   ]
  },
  {
   "cell_type": "code",
   "metadata": {
    "ExecuteTime": {
     "end_time": "2024-08-06T19:12:16.019752Z",
     "start_time": "2024-08-06T19:12:15.818296Z"
    }
   },
   "source": [
    "# Para categorizar una variable, ejemplo con 5 niveles. \n",
    "data[\"salary_cat\"] = pd.cut(data[\"median_salary\"],\n",
    "                           bins=[0., 10000, 20000, 30000, 40000,\n",
    "                                np.inf],\n",
    "                           labels=[1, 2, 3, 4, 5])\n",
    "#Hacer un histograma de las categorías\n",
    "data[\"salary_cat\"].hist()"
   ],
   "outputs": [
    {
     "data": {
      "text/plain": [
       "<Axes: >"
      ]
     },
     "execution_count": 13,
     "metadata": {},
     "output_type": "execute_result"
    },
    {
     "data": {
      "text/plain": [
       "<Figure size 640x480 with 1 Axes>"
      ],
      "image/png": "[encoded data removed]"
     },
     "metadata": {},
     "output_type": "display_data"
    }
   ],
   "execution_count": 13
  },
  {
   "cell_type": "code",
   "metadata": {
    "ExecuteTime": {
     "end_time": "2024-08-06T19:12:16.028552Z",
     "start_time": "2024-08-06T19:12:16.020764Z"
    }
   },
   "source": [
    "#Verificar que no existen datos en el bin #1\n",
    "data[\"salary_cat\"].value_counts()"
   ],
   "outputs": [
    {
     "data": {
      "text/plain": [
       "salary_cat\n",
       "3    496\n",
       "4    287\n",
       "2     59\n",
       "5     39\n",
       "1      0\n",
       "Name: count, dtype: int64"
      ]
     },
     "execution_count": 14,
     "metadata": {},
     "output_type": "execute_result"
    }
   ],
   "execution_count": 14
  },
  {
   "cell_type": "code",
   "metadata": {
    "ExecuteTime": {
     "end_time": "2024-08-06T19:12:16.231724Z",
     "start_time": "2024-08-06T19:12:16.029560Z"
    }
   },
   "source": [
    "# Redefinir en 4 categorías, quitando en donde no hay datos (el bin#1)\n",
    "data = data.dropna(subset=['median_salary'])\n",
    "data = data.reset_index()\n",
    "data[\"salary_cat\"] = pd.cut(data[\"median_salary\"],\n",
    "                           bins=[10000., 20000., 30000., 40000.,\n",
    "                                np.inf],\n",
    "                           labels=[1, 2, 3, 4])\n",
    "data[\"salary_cat\"].hist()"
   ],
   "outputs": [
    {
     "data": {
      "text/plain": [
       "<Axes: >"
      ]
     },
     "execution_count": 15,
     "metadata": {},
     "output_type": "execute_result"
    },
    {
     "data": {
      "text/plain": [
       "<Figure size 640x480 with 1 Axes>"
      ],
      "image/png": "[encoded data removed]"
     },
     "metadata": {},
     "output_type": "display_data"
    }
   ],
   "execution_count": 15
  },
  {
   "cell_type": "code",
   "metadata": {
    "ExecuteTime": {
     "end_time": "2024-08-06T19:12:16.240635Z",
     "start_time": "2024-08-06T19:12:16.234732Z"
    }
   },
   "source": [
    "#Verifica que si se redefinieron las categorías \n",
    "data[\"salary_cat\"].value_counts()"
   ],
   "outputs": [
    {
     "data": {
      "text/plain": [
       "salary_cat\n",
       "2    496\n",
       "3    287\n",
       "1     59\n",
       "4     39\n",
       "Name: count, dtype: int64"
      ]
     },
     "execution_count": 16,
     "metadata": {},
     "output_type": "execute_result"
    }
   ],
   "execution_count": 16
  },
  {
   "cell_type": "code",
   "metadata": {
    "ExecuteTime": {
     "end_time": "2024-08-06T19:12:16.246384Z",
     "start_time": "2024-08-06T19:12:16.241645Z"
    }
   },
   "source": [
    "## Dividir datos basándonos en nuestras categorías de salarios\n",
    "\n",
    "from sklearn.model_selection import StratifiedShuffleSplit"
   ],
   "outputs": [],
   "execution_count": 17
  },
  {
   "cell_type": "code",
   "metadata": {
    "ExecuteTime": {
     "end_time": "2024-08-06T19:12:16.252140Z",
     "start_time": "2024-08-06T19:12:16.247392Z"
    }
   },
   "source": [
    "# Generamos nuestro objeto para que lo divida en 30% y solo haga una división\n",
    "split = StratifiedShuffleSplit(n_splits=1, test_size=0.3, random_state=45)"
   ],
   "outputs": [],
   "execution_count": 18
  },
  {
   "cell_type": "code",
   "metadata": {
    "ExecuteTime": {
     "end_time": "2024-08-06T19:12:16.260958Z",
     "start_time": "2024-08-06T19:12:16.253148Z"
    }
   },
   "source": [
    "# Creamos nuestras variables basándonos en nuestras categorías\n",
    "for ent_index, prueba_index in split.split(data,data[\"salary_cat\"]):\n",
    "    cat_set_ent = data.loc[ent_index]\n",
    "    cat_set_prueba = data.loc[prueba_index]"
   ],
   "outputs": [],
   "execution_count": 19
  },
  {
   "cell_type": "code",
   "metadata": {
    "ExecuteTime": {
     "end_time": "2024-08-06T19:12:16.270475Z",
     "start_time": "2024-08-06T19:12:16.261967Z"
    }
   },
   "source": [
    "# Comprobación. Ya en porcentaje\n",
    "cat_set_prueba[\"salary_cat\"].value_counts()/ len(cat_set_prueba)"
   ],
   "outputs": [
    {
     "data": {
      "text/plain": [
       "salary_cat\n",
       "2   0.56\n",
       "3   0.32\n",
       "1   0.07\n",
       "4   0.05\n",
       "Name: count, dtype: float64"
      ]
     },
     "execution_count": 20,
     "metadata": {},
     "output_type": "execute_result"
    }
   ],
   "execution_count": 20
  },
  {
   "cell_type": "markdown",
   "metadata": {},
   "source": [
    "***"
   ]
  },
  {
   "cell_type": "code",
   "metadata": {
    "ExecuteTime": {
     "end_time": "2024-08-06T19:12:16.282984Z",
     "start_time": "2024-08-06T19:12:16.272485Z"
    }
   },
   "source": [
    "# Creamos dataframe para trabajar con el set de entrenamiento\n",
    "df = cat_set_ent.copy()\n",
    "df.head()"
   ],
   "outputs": [
    {
     "data": {
      "text/plain": [
       "     index  median_salary                    area        date  average_price  \\\n",
       "323    336      21,946.00           east midlands  2006-12-01         151841   \n",
       "424    438      28,234.00                  ealing  2009-12-01         279575   \n",
       "560    574      28,326.00                havering  2012-12-01         223743   \n",
       "481    495      30,806.00                lewisham  2010-12-01         223141   \n",
       "53      55      25,264.00  hammersmith and fulham  2000-12-01         262106   \n",
       "\n",
       "          code  houses_sold  no_of_crimes  borough_flag salary_cat  \n",
       "323  E12000004    10,413.00           NaN             0          2  \n",
       "424  E09000009       312.00      2,392.00             1          2  \n",
       "560  E09000016       231.00      1,452.00             1          2  \n",
       "481  E09000023       242.00      2,119.00             1          3  \n",
       "53   E09000013       255.00           NaN             1          2  "
      ],
      "text/html": [
       "<div>\n",
       "<style scoped>\n",
       "    .dataframe tbody tr th:only-of-type {\n",
       "        vertical-align: middle;\n",
       "    }\n",
       "\n",
       "    .dataframe tbody tr th {\n",
       "        vertical-align: top;\n",
       "    }\n",
       "\n",
       "    .dataframe thead th {\n",
       "        text-align: right;\n",
       "    }\n",
       "</style>\n",
       "<table border=\"1\" class=\"dataframe\">\n",
       "  <thead>\n",
       "    <tr style=\"text-align: right;\">\n",
       "      <th></th>\n",
       "      <th>index</th>\n",
       "      <th>median_salary</th>\n",
       "      <th>area</th>\n",
       "      <th>date</th>\n",
       "      <th>average_price</th>\n",
       "      <th>code</th>\n",
       "      <th>houses_sold</th>\n",
       "      <th>no_of_crimes</th>\n",
       "      <th>borough_flag</th>\n",
       "      <th>salary_cat</th>\n",
       "    </tr>\n",
       "  </thead>\n",
       "  <tbody>\n",
       "    <tr>\n",
       "      <th>323</th>\n",
       "      <td>336</td>\n",
       "      <td>21,946.00</td>\n",
       "      <td>east midlands</td>\n",
       "      <td>2006-12-01</td>\n",
       "      <td>151841</td>\n",
       "      <td>E12000004</td>\n",
       "      <td>10,413.00</td>\n",
       "      <td>NaN</td>\n",
       "      <td>0</td>\n",
       "      <td>2</td>\n",
       "    </tr>\n",
       "    <tr>\n",
       "      <th>424</th>\n",
       "      <td>438</td>\n",
       "      <td>28,234.00</td>\n",
       "      <td>ealing</td>\n",
       "      <td>2009-12-01</td>\n",
       "      <td>279575</td>\n",
       "      <td>E09000009</td>\n",
       "      <td>312.00</td>\n",
       "      <td>2,392.00</td>\n",
       "      <td>1</td>\n",
       "      <td>2</td>\n",
       "    </tr>\n",
       "    <tr>\n",
       "      <th>560</th>\n",
       "      <td>574</td>\n",
       "      <td>28,326.00</td>\n",
       "      <td>havering</td>\n",
       "      <td>2012-12-01</td>\n",
       "      <td>223743</td>\n",
       "      <td>E09000016</td>\n",
       "      <td>231.00</td>\n",
       "      <td>1,452.00</td>\n",
       "      <td>1</td>\n",
       "      <td>2</td>\n",
       "    </tr>\n",
       "    <tr>\n",
       "      <th>481</th>\n",
       "      <td>495</td>\n",
       "      <td>30,806.00</td>\n",
       "      <td>lewisham</td>\n",
       "      <td>2010-12-01</td>\n",
       "      <td>223141</td>\n",
       "      <td>E09000023</td>\n",
       "      <td>242.00</td>\n",
       "      <td>2,119.00</td>\n",
       "      <td>1</td>\n",
       "      <td>3</td>\n",
       "    </tr>\n",
       "    <tr>\n",
       "      <th>53</th>\n",
       "      <td>55</td>\n",
       "      <td>25,264.00</td>\n",
       "      <td>hammersmith and fulham</td>\n",
       "      <td>2000-12-01</td>\n",
       "      <td>262106</td>\n",
       "      <td>E09000013</td>\n",
       "      <td>255.00</td>\n",
       "      <td>NaN</td>\n",
       "      <td>1</td>\n",
       "      <td>2</td>\n",
       "    </tr>\n",
       "  </tbody>\n",
       "</table>\n",
       "</div>"
      ]
     },
     "execution_count": 21,
     "metadata": {},
     "output_type": "execute_result"
    }
   ],
   "execution_count": 21
  },
  {
   "cell_type": "markdown",
   "metadata": {},
   "source": [
    "***"
   ]
  },
  {
   "cell_type": "markdown",
   "metadata": {},
   "source": [
    "## <span style=\"color:green\">4. Visualizar los Datos Gráficamente </span>\n",
    "\n",
    "\n",
    "Para esto vamos a necesitar, en conjunto con nuestro dataset LONDON_MAP, una nueva libreria que se llama geopandas, el cual exteiende la libreria pandas, para trabajar con datos geoespaciales, se puede encontrar más información en: https://geopandas.org/getting_started/introduction.html"
   ]
  },
  {
   "cell_type": "code",
   "metadata": {
    "scrolled": true,
    "ExecuteTime": {
     "end_time": "2024-08-06T19:12:16.768321Z",
     "start_time": "2024-08-06T19:12:16.283992Z"
    }
   },
   "source": [
    "#Importar geopandas\n",
    "import geopandas as gpd\n",
    "\n",
    "#Leer el mapa\n",
    "londres_map =  gpd.read_file('C:/Users/crist/Desktop/Archivos de Trabajo para el curso y Manual/MachineLearning_Data/Capitulo_2/map/London_Borough_Excluding_MHW.shp')\n",
    "londres_map.head()"
   ],
   "outputs": [
    {
     "data": {
      "text/plain": [
       "                   NAME   GSS_CODE  HECTARES  NONLD_AREA ONS_INNER SUB_2009  \\\n",
       "0  Kingston upon Thames  E09000021  3,726.12        0.00         F     None   \n",
       "1               Croydon  E09000008  8,649.44        0.00         F     None   \n",
       "2               Bromley  E09000006 15,013.49        0.00         F     None   \n",
       "3              Hounslow  E09000018  5,658.54       60.76         F     None   \n",
       "4                Ealing  E09000009  5,554.43        0.00         F     None   \n",
       "\n",
       "  SUB_2006                                           geometry  \n",
       "0     None  POLYGON ((516401.600 160201.800, 516407.300 16...  \n",
       "1     None  POLYGON ((535009.200 159504.700, 535005.500 15...  \n",
       "2     None  POLYGON ((540373.600 157530.400, 540361.200 15...  \n",
       "3     None  POLYGON ((521975.800 178100.000, 521967.700 17...  \n",
       "4     None  POLYGON ((510253.500 182881.600, 510249.900 18...  "
      ],
      "text/html": [
       "<div>\n",
       "<style scoped>\n",
       "    .dataframe tbody tr th:only-of-type {\n",
       "        vertical-align: middle;\n",
       "    }\n",
       "\n",
       "    .dataframe tbody tr th {\n",
       "        vertical-align: top;\n",
       "    }\n",
       "\n",
       "    .dataframe thead th {\n",
       "        text-align: right;\n",
       "    }\n",
       "</style>\n",
       "<table border=\"1\" class=\"dataframe\">\n",
       "  <thead>\n",
       "    <tr style=\"text-align: right;\">\n",
       "      <th></th>\n",
       "      <th>NAME</th>\n",
       "      <th>GSS_CODE</th>\n",
       "      <th>HECTARES</th>\n",
       "      <th>NONLD_AREA</th>\n",
       "      <th>ONS_INNER</th>\n",
       "      <th>SUB_2009</th>\n",
       "      <th>SUB_2006</th>\n",
       "      <th>geometry</th>\n",
       "    </tr>\n",
       "  </thead>\n",
       "  <tbody>\n",
       "    <tr>\n",
       "      <th>0</th>\n",
       "      <td>Kingston upon Thames</td>\n",
       "      <td>E09000021</td>\n",
       "      <td>3,726.12</td>\n",
       "      <td>0.00</td>\n",
       "      <td>F</td>\n",
       "      <td>None</td>\n",
       "      <td>None</td>\n",
       "      <td>POLYGON ((516401.600 160201.800, 516407.300 16...</td>\n",
       "    </tr>\n",
       "    <tr>\n",
       "      <th>1</th>\n",
       "      <td>Croydon</td>\n",
       "      <td>E09000008</td>\n",
       "      <td>8,649.44</td>\n",
       "      <td>0.00</td>\n",
       "      <td>F</td>\n",
       "      <td>None</td>\n",
       "      <td>None</td>\n",
       "      <td>POLYGON ((535009.200 159504.700, 535005.500 15...</td>\n",
       "    </tr>\n",
       "    <tr>\n",
       "      <th>2</th>\n",
       "      <td>Bromley</td>\n",
       "      <td>E09000006</td>\n",
       "      <td>15,013.49</td>\n",
       "      <td>0.00</td>\n",
       "      <td>F</td>\n",
       "      <td>None</td>\n",
       "      <td>None</td>\n",
       "      <td>POLYGON ((540373.600 157530.400, 540361.200 15...</td>\n",
       "    </tr>\n",
       "    <tr>\n",
       "      <th>3</th>\n",
       "      <td>Hounslow</td>\n",
       "      <td>E09000018</td>\n",
       "      <td>5,658.54</td>\n",
       "      <td>60.76</td>\n",
       "      <td>F</td>\n",
       "      <td>None</td>\n",
       "      <td>None</td>\n",
       "      <td>POLYGON ((521975.800 178100.000, 521967.700 17...</td>\n",
       "    </tr>\n",
       "    <tr>\n",
       "      <th>4</th>\n",
       "      <td>Ealing</td>\n",
       "      <td>E09000009</td>\n",
       "      <td>5,554.43</td>\n",
       "      <td>0.00</td>\n",
       "      <td>F</td>\n",
       "      <td>None</td>\n",
       "      <td>None</td>\n",
       "      <td>POLYGON ((510253.500 182881.600, 510249.900 18...</td>\n",
       "    </tr>\n",
       "  </tbody>\n",
       "</table>\n",
       "</div>"
      ]
     },
     "execution_count": 22,
     "metadata": {},
     "output_type": "execute_result"
    }
   ],
   "execution_count": 22
  },
  {
   "cell_type": "code",
   "metadata": {
    "ExecuteTime": {
     "end_time": "2024-08-06T19:12:17.006699Z",
     "start_time": "2024-08-06T19:12:16.769328Z"
    }
   },
   "source": [
    "# Graficamos el mapa\n",
    "londres_map.plot()"
   ],
   "outputs": [
    {
     "data": {
      "text/plain": [
       "<Axes: >"
      ]
     },
     "execution_count": 23,
     "metadata": {},
     "output_type": "execute_result"
    },
    {
     "data": {
      "text/plain": [
       "<Figure size 640x480 with 1 Axes>"
      ],
      "image/png": "[encoded data removed]"
     },
     "metadata": {},
     "output_type": "display_data"
    }
   ],
   "execution_count": 23
  },
  {
   "cell_type": "markdown",
   "metadata": {},
   "source": [
    "***"
   ]
  },
  {
   "cell_type": "code",
   "metadata": {
    "ExecuteTime": {
     "end_time": "2024-08-06T19:12:17.074830Z",
     "start_time": "2024-08-06T19:12:17.007626Z"
    }
   },
   "source": [
    "# Ajustamos los nombres de las columnas para despúes hacer un merge.\n",
    "#utilizar lower para cambiar de mayúsculas a minúsculas \n",
    "londres_map.columns = londres_map.columns.str.lower()\n",
    "londres_map = londres_map.rename({'name': 'area', 'gss_code': 'code'}, axis=1)\n",
    "londres_map[\"area\"] = londres_map[\"area\"].str.lower()\n",
    "\n",
    "\n",
    "#Seleccionar columnas necesarias\n",
    "londres_map = londres_map.filter(items=[\"area\",\"code\",\"hectares\",\"geometry\"])\n",
    "londres_map.head()"
   ],
   "outputs": [
    {
     "data": {
      "text/plain": [
       "                   area       code  hectares  \\\n",
       "0  kingston upon thames  E09000021  3,726.12   \n",
       "1               croydon  E09000008  8,649.44   \n",
       "2               bromley  E09000006 15,013.49   \n",
       "3              hounslow  E09000018  5,658.54   \n",
       "4                ealing  E09000009  5,554.43   \n",
       "\n",
       "                                            geometry  \n",
       "0  POLYGON ((516401.600 160201.800, 516407.300 16...  \n",
       "1  POLYGON ((535009.200 159504.700, 535005.500 15...  \n",
       "2  POLYGON ((540373.600 157530.400, 540361.200 15...  \n",
       "3  POLYGON ((521975.800 178100.000, 521967.700 17...  \n",
       "4  POLYGON ((510253.500 182881.600, 510249.900 18...  "
      ],
      "text/html": [
       "<div>\n",
       "<style scoped>\n",
       "    .dataframe tbody tr th:only-of-type {\n",
       "        vertical-align: middle;\n",
       "    }\n",
       "\n",
       "    .dataframe tbody tr th {\n",
       "        vertical-align: top;\n",
       "    }\n",
       "\n",
       "    .dataframe thead th {\n",
       "        text-align: right;\n",
       "    }\n",
       "</style>\n",
       "<table border=\"1\" class=\"dataframe\">\n",
       "  <thead>\n",
       "    <tr style=\"text-align: right;\">\n",
       "      <th></th>\n",
       "      <th>area</th>\n",
       "      <th>code</th>\n",
       "      <th>hectares</th>\n",
       "      <th>geometry</th>\n",
       "    </tr>\n",
       "  </thead>\n",
       "  <tbody>\n",
       "    <tr>\n",
       "      <th>0</th>\n",
       "      <td>kingston upon thames</td>\n",
       "      <td>E09000021</td>\n",
       "      <td>3,726.12</td>\n",
       "      <td>POLYGON ((516401.600 160201.800, 516407.300 16...</td>\n",
       "    </tr>\n",
       "    <tr>\n",
       "      <th>1</th>\n",
       "      <td>croydon</td>\n",
       "      <td>E09000008</td>\n",
       "      <td>8,649.44</td>\n",
       "      <td>POLYGON ((535009.200 159504.700, 535005.500 15...</td>\n",
       "    </tr>\n",
       "    <tr>\n",
       "      <th>2</th>\n",
       "      <td>bromley</td>\n",
       "      <td>E09000006</td>\n",
       "      <td>15,013.49</td>\n",
       "      <td>POLYGON ((540373.600 157530.400, 540361.200 15...</td>\n",
       "    </tr>\n",
       "    <tr>\n",
       "      <th>3</th>\n",
       "      <td>hounslow</td>\n",
       "      <td>E09000018</td>\n",
       "      <td>5,658.54</td>\n",
       "      <td>POLYGON ((521975.800 178100.000, 521967.700 17...</td>\n",
       "    </tr>\n",
       "    <tr>\n",
       "      <th>4</th>\n",
       "      <td>ealing</td>\n",
       "      <td>E09000009</td>\n",
       "      <td>5,554.43</td>\n",
       "      <td>POLYGON ((510253.500 182881.600, 510249.900 18...</td>\n",
       "    </tr>\n",
       "  </tbody>\n",
       "</table>\n",
       "</div>"
      ]
     },
     "execution_count": 24,
     "metadata": {},
     "output_type": "execute_result"
    }
   ],
   "execution_count": 24
  },
  {
   "cell_type": "markdown",
   "metadata": {},
   "source": [
    "***"
   ]
  },
  {
   "cell_type": "code",
   "metadata": {
    "ExecuteTime": {
     "end_time": "2024-08-06T19:12:17.087720Z",
     "start_time": "2024-08-06T19:12:17.075838Z"
    }
   },
   "source": [
    "# Seleccionar datos de nuestro set de entrenamiento\n",
    "df_m = df.groupby('area').agg({'average_price': ['mean'], 'houses_sold': 'sum'})\n",
    "\n",
    "# Le asignamos nombre a las columnas del nuevo dataframe y reseteamos el indice\n",
    "df_m.columns = ['average_price', 'houses_sold']\n",
    "df_m.reset_index(inplace = True)\n",
    "df_m.head()"
   ],
   "outputs": [
    {
     "data": {
      "text/plain": [
       "                   area  average_price  houses_sold\n",
       "0  barking and dagenham     182,996.43     2,937.00\n",
       "1                barnet     327,315.14     6,485.00\n",
       "2                bexley     215,843.00     3,976.00\n",
       "3                 brent     287,339.23     3,734.00\n",
       "4               bromley     278,804.75     5,836.00"
      ],
      "text/html": [
       "<div>\n",
       "<style scoped>\n",
       "    .dataframe tbody tr th:only-of-type {\n",
       "        vertical-align: middle;\n",
       "    }\n",
       "\n",
       "    .dataframe tbody tr th {\n",
       "        vertical-align: top;\n",
       "    }\n",
       "\n",
       "    .dataframe thead th {\n",
       "        text-align: right;\n",
       "    }\n",
       "</style>\n",
       "<table border=\"1\" class=\"dataframe\">\n",
       "  <thead>\n",
       "    <tr style=\"text-align: right;\">\n",
       "      <th></th>\n",
       "      <th>area</th>\n",
       "      <th>average_price</th>\n",
       "      <th>houses_sold</th>\n",
       "    </tr>\n",
       "  </thead>\n",
       "  <tbody>\n",
       "    <tr>\n",
       "      <th>0</th>\n",
       "      <td>barking and dagenham</td>\n",
       "      <td>182,996.43</td>\n",
       "      <td>2,937.00</td>\n",
       "    </tr>\n",
       "    <tr>\n",
       "      <th>1</th>\n",
       "      <td>barnet</td>\n",
       "      <td>327,315.14</td>\n",
       "      <td>6,485.00</td>\n",
       "    </tr>\n",
       "    <tr>\n",
       "      <th>2</th>\n",
       "      <td>bexley</td>\n",
       "      <td>215,843.00</td>\n",
       "      <td>3,976.00</td>\n",
       "    </tr>\n",
       "    <tr>\n",
       "      <th>3</th>\n",
       "      <td>brent</td>\n",
       "      <td>287,339.23</td>\n",
       "      <td>3,734.00</td>\n",
       "    </tr>\n",
       "    <tr>\n",
       "      <th>4</th>\n",
       "      <td>bromley</td>\n",
       "      <td>278,804.75</td>\n",
       "      <td>5,836.00</td>\n",
       "    </tr>\n",
       "  </tbody>\n",
       "</table>\n",
       "</div>"
      ]
     },
     "execution_count": 25,
     "metadata": {},
     "output_type": "execute_result"
    }
   ],
   "execution_count": 25
  },
  {
   "cell_type": "code",
   "metadata": {
    "ExecuteTime": {
     "end_time": "2024-08-06T19:12:17.156557Z",
     "start_time": "2024-08-06T19:12:17.089243Z"
    }
   },
   "source": [
    "# Combinar dtaframes\n",
    "londres_map = pd.merge(londres_map,df_m,on=\"area\")\n",
    "londres_map.head()"
   ],
   "outputs": [
    {
     "data": {
      "text/plain": [
       "                   area       code  hectares  \\\n",
       "0  kingston upon thames  E09000021  3,726.12   \n",
       "1               croydon  E09000008  8,649.44   \n",
       "2               bromley  E09000006 15,013.49   \n",
       "3              hounslow  E09000018  5,658.54   \n",
       "4                ealing  E09000009  5,554.43   \n",
       "\n",
       "                                            geometry  average_price  \\\n",
       "0  POLYGON ((516401.600 160201.800, 516407.300 16...     318,729.36   \n",
       "1  POLYGON ((535009.200 159504.700, 535005.500 15...     264,942.57   \n",
       "2  POLYGON ((540373.600 157530.400, 540361.200 15...     278,804.75   \n",
       "3  POLYGON ((521975.800 178100.000, 521967.700 17...     286,041.07   \n",
       "4  POLYGON ((510253.500 182881.600, 510249.900 18...     318,157.31   \n",
       "\n",
       "   houses_sold  \n",
       "0     2,376.00  \n",
       "1     6,099.00  \n",
       "2     5,836.00  \n",
       "3     3,419.00  \n",
       "4     4,063.00  "
      ],
      "text/html": [
       "<div>\n",
       "<style scoped>\n",
       "    .dataframe tbody tr th:only-of-type {\n",
       "        vertical-align: middle;\n",
       "    }\n",
       "\n",
       "    .dataframe tbody tr th {\n",
       "        vertical-align: top;\n",
       "    }\n",
       "\n",
       "    .dataframe thead th {\n",
       "        text-align: right;\n",
       "    }\n",
       "</style>\n",
       "<table border=\"1\" class=\"dataframe\">\n",
       "  <thead>\n",
       "    <tr style=\"text-align: right;\">\n",
       "      <th></th>\n",
       "      <th>area</th>\n",
       "      <th>code</th>\n",
       "      <th>hectares</th>\n",
       "      <th>geometry</th>\n",
       "      <th>average_price</th>\n",
       "      <th>houses_sold</th>\n",
       "    </tr>\n",
       "  </thead>\n",
       "  <tbody>\n",
       "    <tr>\n",
       "      <th>0</th>\n",
       "      <td>kingston upon thames</td>\n",
       "      <td>E09000021</td>\n",
       "      <td>3,726.12</td>\n",
       "      <td>POLYGON ((516401.600 160201.800, 516407.300 16...</td>\n",
       "      <td>318,729.36</td>\n",
       "      <td>2,376.00</td>\n",
       "    </tr>\n",
       "    <tr>\n",
       "      <th>1</th>\n",
       "      <td>croydon</td>\n",
       "      <td>E09000008</td>\n",
       "      <td>8,649.44</td>\n",
       "      <td>POLYGON ((535009.200 159504.700, 535005.500 15...</td>\n",
       "      <td>264,942.57</td>\n",
       "      <td>6,099.00</td>\n",
       "    </tr>\n",
       "    <tr>\n",
       "      <th>2</th>\n",
       "      <td>bromley</td>\n",
       "      <td>E09000006</td>\n",
       "      <td>15,013.49</td>\n",
       "      <td>POLYGON ((540373.600 157530.400, 540361.200 15...</td>\n",
       "      <td>278,804.75</td>\n",
       "      <td>5,836.00</td>\n",
       "    </tr>\n",
       "    <tr>\n",
       "      <th>3</th>\n",
       "      <td>hounslow</td>\n",
       "      <td>E09000018</td>\n",
       "      <td>5,658.54</td>\n",
       "      <td>POLYGON ((521975.800 178100.000, 521967.700 17...</td>\n",
       "      <td>286,041.07</td>\n",
       "      <td>3,419.00</td>\n",
       "    </tr>\n",
       "    <tr>\n",
       "      <th>4</th>\n",
       "      <td>ealing</td>\n",
       "      <td>E09000009</td>\n",
       "      <td>5,554.43</td>\n",
       "      <td>POLYGON ((510253.500 182881.600, 510249.900 18...</td>\n",
       "      <td>318,157.31</td>\n",
       "      <td>4,063.00</td>\n",
       "    </tr>\n",
       "  </tbody>\n",
       "</table>\n",
       "</div>"
      ]
     },
     "execution_count": 26,
     "metadata": {},
     "output_type": "execute_result"
    }
   ],
   "execution_count": 26
  },
  {
   "cell_type": "markdown",
   "metadata": {},
   "source": [
    "***"
   ]
  },
  {
   "cell_type": "code",
   "metadata": {
    "ExecuteTime": {
     "end_time": "2024-08-06T19:12:17.472169Z",
     "start_time": "2024-08-06T19:12:17.157568Z"
    }
   },
   "source": [
    "#Gráfica del promedio de los precios en las casas \n",
    "#Cuando se grafica en geopandas hay muchos argumentos, no se desesperen si no los recuerdan, es normal. \n",
    "plt = londres_map.plot(column = 'average_price', cmap = 'Reds', edgecolor = 'maroon',\n",
    "               legend = True, legend_kwds = {'label': 'Precio', 'orientation' : 'horizontal'})\n",
    "plt.set_title('Media de los precios en las casas')\n",
    "plt.axis('off')"
   ],
   "outputs": [
    {
     "data": {
      "text/plain": [
       "(500648.735, 564876.965, 153596.645, 203188.055)"
      ]
     },
     "execution_count": 27,
     "metadata": {},
     "output_type": "execute_result"
    },
    {
     "data": {
      "text/plain": [
       "<Figure size 640x480 with 2 Axes>"
      ],
      "image/png": "[encoded data removed]"
     },
     "metadata": {},
     "output_type": "display_data"
    }
   ],
   "execution_count": 27
  },
  {
   "cell_type": "markdown",
   "metadata": {},
   "source": [
    "💸: Recuerden que los precios son mayores en el centro de la cuidad"
   ]
  },
  {
   "cell_type": "code",
   "metadata": {
    "ExecuteTime": {
     "end_time": "2024-08-06T19:12:17.811023Z",
     "start_time": "2024-08-06T19:12:17.473176Z"
    }
   },
   "source": [
    "#Graficar ahora el total de las casa vendidas (utilizar el código anterior para no repetir)\n",
    "plt = londres_map.plot(column = 'houses_sold', cmap = 'Blues', edgecolor = 'maroon',\n",
    "               legend = True, legend_kwds = {'label': 'Precio', 'orientation' : 'horizontal'})\n",
    "plt.set_title('Total de casas vendidas')\n",
    "plt.axis('off')"
   ],
   "outputs": [
    {
     "data": {
      "text/plain": [
       "(500648.735, 564876.965, 153596.645, 203188.055)"
      ]
     },
     "execution_count": 28,
     "metadata": {},
     "output_type": "execute_result"
    },
    {
     "data": {
      "text/plain": [
       "<Figure size 640x480 with 2 Axes>"
      ],
      "image/png": "[encoded data removed]"
     },
     "metadata": {},
     "output_type": "display_data"
    }
   ],
   "execution_count": 28
  },
  {
   "cell_type": "markdown",
   "metadata": {},
   "source": [
    "**Ejercicio:** Incluir en el análisis los salarios promedio por zona (apoyarse del video 21)"
   ]
  },
  {
   "cell_type": "markdown",
   "metadata": {},
   "source": [
    "***"
   ]
  },
  {
   "cell_type": "markdown",
   "metadata": {},
   "source": [
    "## <span style=\"color:green\">5. Medir la Correlación </span>\n"
   ]
  },
  {
   "cell_type": "code",
   "metadata": {
    "ExecuteTime": {
     "end_time": "2024-08-06T19:12:20.089477Z",
     "start_time": "2024-08-06T19:12:17.812032Z"
    }
   },
   "source": [
    "# Crear matriz de correlación\n",
    "matriz = df.corr(method='pearson')\n",
    "\n",
    "# Comparar correlación\n",
    "matriz[\"average_price\"].sort_values(ascending=False)"
   ],
   "outputs": [
    {
     "ename": "ValueError",
     "evalue": "could not convert string to float: 'east midlands'",
     "output_type": "error",
     "traceback": [
      "\u001B[1;31m---------------------------------------------------------------------------\u001B[0m",
      "\u001B[1;31mValueError\u001B[0m                                Traceback (most recent call last)",
      "Cell \u001B[1;32mIn[29], line 2\u001B[0m\n\u001B[0;32m      1\u001B[0m \u001B[38;5;66;03m# Crear matriz de correlación\u001B[39;00m\n\u001B[1;32m----> 2\u001B[0m matriz \u001B[38;5;241m=\u001B[39m df\u001B[38;5;241m.\u001B[39mcorr(method\u001B[38;5;241m=\u001B[39m\u001B[38;5;124m'\u001B[39m\u001B[38;5;124mpearson\u001B[39m\u001B[38;5;124m'\u001B[39m)\n\u001B[0;32m      4\u001B[0m \u001B[38;5;66;03m# Comparar correlación\u001B[39;00m\n\u001B[0;32m      5\u001B[0m matriz[\u001B[38;5;124m\"\u001B[39m\u001B[38;5;124maverage_price\u001B[39m\u001B[38;5;124m\"\u001B[39m]\u001B[38;5;241m.\u001B[39msort_values(ascending\u001B[38;5;241m=\u001B[39m\u001B[38;5;28;01mFalse\u001B[39;00m)\n",
      "File \u001B[1;32m~\\miniconda3\\Lib\\site-packages\\pandas\\core\\frame.py:11036\u001B[0m, in \u001B[0;36mDataFrame.corr\u001B[1;34m(self, method, min_periods, numeric_only)\u001B[0m\n\u001B[0;32m  11034\u001B[0m cols \u001B[38;5;241m=\u001B[39m data\u001B[38;5;241m.\u001B[39mcolumns\n\u001B[0;32m  11035\u001B[0m idx \u001B[38;5;241m=\u001B[39m cols\u001B[38;5;241m.\u001B[39mcopy()\n\u001B[1;32m> 11036\u001B[0m mat \u001B[38;5;241m=\u001B[39m data\u001B[38;5;241m.\u001B[39mto_numpy(dtype\u001B[38;5;241m=\u001B[39m\u001B[38;5;28mfloat\u001B[39m, na_value\u001B[38;5;241m=\u001B[39mnp\u001B[38;5;241m.\u001B[39mnan, copy\u001B[38;5;241m=\u001B[39m\u001B[38;5;28;01mFalse\u001B[39;00m)\n\u001B[0;32m  11038\u001B[0m \u001B[38;5;28;01mif\u001B[39;00m method \u001B[38;5;241m==\u001B[39m \u001B[38;5;124m\"\u001B[39m\u001B[38;5;124mpearson\u001B[39m\u001B[38;5;124m\"\u001B[39m:\n\u001B[0;32m  11039\u001B[0m     correl \u001B[38;5;241m=\u001B[39m libalgos\u001B[38;5;241m.\u001B[39mnancorr(mat, minp\u001B[38;5;241m=\u001B[39mmin_periods)\n",
      "File \u001B[1;32m~\\miniconda3\\Lib\\site-packages\\pandas\\core\\frame.py:1981\u001B[0m, in \u001B[0;36mDataFrame.to_numpy\u001B[1;34m(self, dtype, copy, na_value)\u001B[0m\n\u001B[0;32m   1979\u001B[0m \u001B[38;5;28;01mif\u001B[39;00m dtype \u001B[38;5;129;01mis\u001B[39;00m \u001B[38;5;129;01mnot\u001B[39;00m \u001B[38;5;28;01mNone\u001B[39;00m:\n\u001B[0;32m   1980\u001B[0m     dtype \u001B[38;5;241m=\u001B[39m np\u001B[38;5;241m.\u001B[39mdtype(dtype)\n\u001B[1;32m-> 1981\u001B[0m result \u001B[38;5;241m=\u001B[39m \u001B[38;5;28mself\u001B[39m\u001B[38;5;241m.\u001B[39m_mgr\u001B[38;5;241m.\u001B[39mas_array(dtype\u001B[38;5;241m=\u001B[39mdtype, copy\u001B[38;5;241m=\u001B[39mcopy, na_value\u001B[38;5;241m=\u001B[39mna_value)\n\u001B[0;32m   1982\u001B[0m \u001B[38;5;28;01mif\u001B[39;00m result\u001B[38;5;241m.\u001B[39mdtype \u001B[38;5;129;01mis\u001B[39;00m \u001B[38;5;129;01mnot\u001B[39;00m dtype:\n\u001B[0;32m   1983\u001B[0m     result \u001B[38;5;241m=\u001B[39m np\u001B[38;5;241m.\u001B[39marray(result, dtype\u001B[38;5;241m=\u001B[39mdtype, copy\u001B[38;5;241m=\u001B[39m\u001B[38;5;28;01mFalse\u001B[39;00m)\n",
      "File \u001B[1;32m~\\miniconda3\\Lib\\site-packages\\pandas\\core\\internals\\managers.py:1692\u001B[0m, in \u001B[0;36mBlockManager.as_array\u001B[1;34m(self, dtype, copy, na_value)\u001B[0m\n\u001B[0;32m   1690\u001B[0m         arr\u001B[38;5;241m.\u001B[39mflags\u001B[38;5;241m.\u001B[39mwriteable \u001B[38;5;241m=\u001B[39m \u001B[38;5;28;01mFalse\u001B[39;00m\n\u001B[0;32m   1691\u001B[0m \u001B[38;5;28;01melse\u001B[39;00m:\n\u001B[1;32m-> 1692\u001B[0m     arr \u001B[38;5;241m=\u001B[39m \u001B[38;5;28mself\u001B[39m\u001B[38;5;241m.\u001B[39m_interleave(dtype\u001B[38;5;241m=\u001B[39mdtype, na_value\u001B[38;5;241m=\u001B[39mna_value)\n\u001B[0;32m   1693\u001B[0m     \u001B[38;5;66;03m# The underlying data was copied within _interleave, so no need\u001B[39;00m\n\u001B[0;32m   1694\u001B[0m     \u001B[38;5;66;03m# to further copy if copy=True or setting na_value\u001B[39;00m\n\u001B[0;32m   1696\u001B[0m \u001B[38;5;28;01mif\u001B[39;00m na_value \u001B[38;5;129;01mis\u001B[39;00m lib\u001B[38;5;241m.\u001B[39mno_default:\n",
      "File \u001B[1;32m~\\miniconda3\\Lib\\site-packages\\pandas\\core\\internals\\managers.py:1751\u001B[0m, in \u001B[0;36mBlockManager._interleave\u001B[1;34m(self, dtype, na_value)\u001B[0m\n\u001B[0;32m   1749\u001B[0m     \u001B[38;5;28;01melse\u001B[39;00m:\n\u001B[0;32m   1750\u001B[0m         arr \u001B[38;5;241m=\u001B[39m blk\u001B[38;5;241m.\u001B[39mget_values(dtype)\n\u001B[1;32m-> 1751\u001B[0m     result[rl\u001B[38;5;241m.\u001B[39mindexer] \u001B[38;5;241m=\u001B[39m arr\n\u001B[0;32m   1752\u001B[0m     itemmask[rl\u001B[38;5;241m.\u001B[39mindexer] \u001B[38;5;241m=\u001B[39m \u001B[38;5;241m1\u001B[39m\n\u001B[0;32m   1754\u001B[0m \u001B[38;5;28;01mif\u001B[39;00m \u001B[38;5;129;01mnot\u001B[39;00m itemmask\u001B[38;5;241m.\u001B[39mall():\n",
      "\u001B[1;31mValueError\u001B[0m: could not convert string to float: 'east midlands'"
     ]
    }
   ],
   "execution_count": 29
  },
  {
   "cell_type": "code",
   "metadata": {},
   "source": [
    "#Importar seaborn \n",
    "import seaborn as sns\n",
    "\n",
    "# Crear vector\n",
    "mask = np.triu(np.ones_like(matriz, dtype = bool))\n",
    "\n",
    "# Graficar\n",
    "plt = sns.heatmap(matriz, mask = mask, annot = True, cmap = 'YlGnBu_r')\n",
    "plt"
   ],
   "outputs": [],
   "execution_count": null
  },
  {
   "cell_type": "code",
   "metadata": {},
   "source": [
    "#Importar pandas \n",
    "from pandas.plotting import scatter_matrix\n",
    "\n",
    "#Para graficar scatter_matrix...\n",
    "columns = ['average_price', 'median_salary', 'no_of_crimes', 'houses_sold']\n",
    "scatter_matrix(df[columns], figsize = (12, 12), color = '#D52B06', alpha = 0.3, \n",
    "               hist_kwds = {'color':['bisque'], 'edgecolor': 'firebrick'});\n"
   ],
   "outputs": [],
   "execution_count": null
  },
  {
   "cell_type": "code",
   "metadata": {},
   "source": [
    "#Por si quieren ver una gráfica en específico más a detalle\n",
    "df.plot(kind=\"scatter\",y=\"median_salary\",x=\"average_price\",alpha=0.1)"
   ],
   "outputs": [],
   "execution_count": null
  },
  {
   "cell_type": "markdown",
   "metadata": {},
   "source": [
    "***"
   ]
  },
  {
   "cell_type": "markdown",
   "metadata": {},
   "source": [
    "## <span style=\"color:green\">6. Combinación de Variables </span>\n"
   ]
  },
  {
   "cell_type": "code",
   "metadata": {},
   "source": [
    "#Armar una columna para hacer las combinaciones que necesitamos\n",
    "df[\"vendidas_poblacion\"] = df[\"population_size\"] / df[\"houses_sold\"]\n",
    "# Crear matriz de correlación\n",
    "matriz = df.corr(method='pearson')\n",
    "matriz[\"average_price\"].sort_values(ascending=False)"
   ],
   "outputs": [],
   "execution_count": null
  },
  {
   "cell_type": "markdown",
   "metadata": {},
   "source": [
    "***"
   ]
  },
  {
   "cell_type": "markdown",
   "metadata": {},
   "source": [
    "***"
   ]
  },
  {
   "cell_type": "markdown",
   "metadata": {},
   "source": [
    "## <span style=\"color:Blue\">7. Transformación de Datos </span>\n"
   ]
  },
  {
   "cell_type": "code",
   "metadata": {},
   "source": [
    "# Crear Dataframe de predictores y variable a predecir ✂️\n",
    "df_label = cat_set_ent['average_price']\n",
    "#Nuevo dataframe sin average_price\n",
    "df = cat_set_ent.drop('average_price', axis=1)\n",
    "df.head()"
   ],
   "outputs": [],
   "execution_count": null
  },
  {
   "cell_type": "markdown",
   "metadata": {},
   "source": [
    "***"
   ]
  },
  {
   "cell_type": "code",
   "metadata": {},
   "source": [
    "#Darte una idea de a qué variables le hace faltan datos\n",
    "df.info()\n",
    "#Calcular la suma de todos los vacíos  \n",
    "df.isna().sum()"
   ],
   "outputs": [],
   "execution_count": null
  },
  {
   "cell_type": "code",
   "metadata": {},
   "source": [
    "#Quitar el número de crímenes por su alta cantidad de datos vacíos \n",
    "df=df.drop(\"no_of_crimes\", axis=1) "
   ],
   "outputs": [],
   "execution_count": null
  },
  {
   "cell_type": "code",
   "metadata": {},
   "source": [
    "#Tomamos la media \n",
    "median = df[\"houses_sold\"].median()\n",
    "#Llenamos los valores con la media\n",
    "df['houses_sold'].fillna(median,inplace=True)  #opción 3\n",
    "#Verifica que no hay datos vacíos\n",
    "df.isna().sum()"
   ],
   "outputs": [],
   "execution_count": null
  },
  {
   "cell_type": "markdown",
   "metadata": {},
   "source": [
    "***"
   ]
  },
  {
   "cell_type": "markdown",
   "metadata": {},
   "source": [
    "Recuerden que volvimos a ejecutar la línea de código de \"df = cat_set_ent.drop('average_price', axis=1)\" para hacer este ejercicio"
   ]
  },
  {
   "cell_type": "code",
   "metadata": {},
   "source": [
    "#BIENVENIDOS A SCIKIT <3 Serán unos expertos al final. \n",
    "# Rellenar valores con scikit\n",
    "#1. Recuerden: importar lo que vayas a utiliza, en este caso SimpleImputer\n",
    "from sklearn.impute import SimpleImputer\n",
    "\n",
    "# 2. Crear objeto, en este caso se llamará imputer\n",
    "imputer = SimpleImputer(strategy=\"median\")\n",
    "\n",
    "df.isna().sum()\n",
    "df= df.drop([\"no_of_crimes\"],axis=1)\n",
    "df.info()\n",
    "\n",
    "# data numérico\n",
    "df_num = df.drop([\"area\",\"date\",\"code\"],axis=1)\n",
    "\n",
    "#Ejecuta Imputer\n",
    "imputer.fit(df_num)\n",
    "\n",
    "#Aplicar transform para rellenar las medianas \n",
    "X = imputer.transform(df_num)\n",
    "\n",
    "#Regresarlo a dataframe \n",
    "df_tr = pd.DataFrame(X, columns=df_num.columns, index=df_num.index)\n",
    "df_tr.head()"
   ],
   "outputs": [],
   "execution_count": null
  },
  {
   "cell_type": "markdown",
   "metadata": {},
   "source": [
    "***"
   ]
  },
  {
   "cell_type": "markdown",
   "metadata": {},
   "source": [
    "## <span style=\"color:Blue\">8. Manejo de texto y valores categóricos </span>"
   ]
  },
  {
   "cell_type": "code",
   "metadata": {},
   "source": [
    "#definir que variable vamos a cambiar a valor numérico\n",
    "df_cat=df[[\"area\"]]\n",
    "#Convertir variables de texto en numéricas\n",
    "from sklearn.preprocessing import OrdinalEncoder\n",
    "\n",
    "ordinal_encoder = OrdinalEncoder()\n",
    "df_oe = ordinal_encoder.fit_transform(df_cat)\n",
    "#verificar que si se haya transformado\n",
    "df_oe[0:10]\n",
    "\n",
    "#Por si quieres ver como funciona el encoder\n",
    "ordinal_encoder.categories_"
   ],
   "outputs": [],
   "execution_count": null
  },
  {
   "cell_type": "code",
   "metadata": {},
   "source": [
    "#ONE HOT ENCODER, es importante recordar y entender esta función porque la usaremos en todo el curso\n",
    "#Convertir variables categóricas en binarias\n",
    "#Importar OneHotEncoder\n",
    "from sklearn.preprocessing import OneHotEncoder\n",
    "#Crear objeto\n",
    "encoder = OneHotEncoder()\n",
    "#Ajustar\n",
    "df_1hot = encoder.fit_transform(df_cat)\n",
    "#obligar a que nos muestre la matriz \n",
    "df_1hot.toarray()"
   ],
   "outputs": [],
   "execution_count": null
  },
  {
   "cell_type": "markdown",
   "metadata": {},
   "source": [
    "***"
   ]
  },
  {
   "cell_type": "markdown",
   "metadata": {},
   "source": [
    "## <span style=\"color:Blue\">9. Escalación de variables </span>\n"
   ]
  },
  {
   "cell_type": "markdown",
   "metadata": {},
   "source": [
    "#### <span style=\"color:Blue\">9.1 Normalización </span>"
   ]
  },
  {
   "cell_type": "code",
   "metadata": {},
   "source": [
    "#Importar MinMaxScaler\n",
    "from sklearn.preprocessing import MinMaxScaler\n",
    "prueba  = pd.DataFrame({'col1':[100,200,300,999], 'col2':[0,0,1,2], 'col3':[-10,0,1,2]})\n",
    "\n",
    "#Creamos el objeto \n",
    "scaler = MinMaxScaler()\n",
    "#Hacer un dataframe con la transformación\n",
    "pd.DataFrame(scaler.fit_transform(prueba),columns=prueba.columns,index=prueba.index)"
   ],
   "outputs": [],
   "execution_count": null
  },
  {
   "cell_type": "markdown",
   "metadata": {},
   "source": [
    "#### <span style=\"color:Blue\">9.2 Estandarización </span>"
   ]
  },
  {
   "cell_type": "code",
   "metadata": {},
   "source": [
    "## Estandarización (Es el más ultizado)\n",
    "#Importar StandardScaler (presten especial atención a StandardScaler lo estaremos viendo muy seguido) \n",
    "from sklearn.preprocessing import StandardScaler\n",
    "#Crea objeto\n",
    "scaler = StandardScaler()\n",
    "#Hacer un dataframe con la transformación\n",
    "pd.DataFrame(scaler.fit_transform(prueba),columns=prueba.columns,index=prueba.index)"
   ],
   "outputs": [],
   "execution_count": null
  },
  {
   "cell_type": "markdown",
   "metadata": {},
   "source": [
    "***"
   ]
  },
  {
   "cell_type": "markdown",
   "metadata": {},
   "source": [
    "## <span style=\"color:Blue\">10. Pipeline </span>\n"
   ]
  },
  {
   "cell_type": "code",
   "metadata": {},
   "source": [
    "# Crear función de pipeline\n",
    "from sklearn.pipeline import Pipeline\n",
    "pipeline = Pipeline([\n",
    "    (\"rellenaje\", SimpleImputer(strategy=\"median\")),\n",
    "    (\"scaler\", StandardScaler())\n",
    "])\n",
    "pd.DataFrame(pipeline.fit_transform(prueba),columns=prueba.columns,index=prueba.index)"
   ],
   "outputs": [],
   "execution_count": null
  },
  {
   "cell_type": "code",
   "metadata": {},
   "source": [
    "# Column Transformer (nos permite transformar varias columnas al mismo tiempo y luego juntarlas)\n",
    "from sklearn.compose import ColumnTransformer\n",
    "num = list(df_num)\n",
    "cat = [\"area\"]\n",
    "\n",
    "pipeline_completo = ColumnTransformer([\n",
    "    (\"num\", pipeline, num),\n",
    "    (\"cat\", OneHotEncoder(), cat)\n",
    "])\n",
    "#Hacer un datframe que usaremos para la regresión linea\n",
    "df_preparado = pipeline_completo.fit_transform(df)\n",
    "#Visualiza los datos \n",
    "df_preparado"
   ],
   "outputs": [],
   "execution_count": null
  },
  {
   "metadata": {},
   "cell_type": "code",
   "source": "",
   "outputs": [],
   "execution_count": null
  },
  {
   "metadata": {},
   "cell_type": "code",
   "source": "print(df.columns)",
   "outputs": [],
   "execution_count": null
  },
  {
   "cell_type": "markdown",
   "metadata": {},
   "source": [
    "***"
   ]
  },
  {
   "cell_type": "markdown",
   "metadata": {},
   "source": [
    "***"
   ]
  },
  {
   "cell_type": "markdown",
   "metadata": {},
   "source": [
    "## <span style=\"color:purple\">11. Seleccionar y entrenar modelos </span>"
   ]
  },
  {
   "cell_type": "code",
   "metadata": {},
   "source": [
    "## Hacer Regresión Lineal (AL FIN)\n",
    "from sklearn.linear_model import LinearRegression\n",
    "reg_lin = LinearRegression()\n",
    "reg_lin.fit(df_preparado, df_label)\n",
    "\n",
    "algunos_datos = df.iloc[:5]\n",
    "datos_predecir = df_label.iloc[:5]\n",
    "datos_transformados = pipeline_completo.transform(algunos_datos)\n",
    "print(\"Predicción:\",reg_lin.predict(datos_transformados))\n",
    "print(\"\\nOriginales:\",list(datos_predecir))"
   ],
   "outputs": [],
   "execution_count": null
  },
  {
   "cell_type": "code",
   "metadata": {},
   "source": [
    "#Análisis preambultario de los errores\n",
    "sa a a aalgunos_datos=df.iloc[:5]\n",
    "dato_predecir=df_label.iloc[:5]\n",
    "datos_transformados=pipeline_completo.transform(algunos_datos)\n",
    "\n",
    "vp=list(reg_lin.predict(datos_transformados))\n",
    "vr=list(dato_predecir)\n",
    "\n",
    "vp=pd.Series(vp)\n",
    "vr=pd.Series(vr)\n",
    "\n",
    "\n",
    "abs((vr-vp)/vr).mean()"
   ],
   "outputs": [],
   "execution_count": null
  },
  {
   "cell_type": "markdown",
   "metadata": {},
   "source": [
    "***"
   ]
  },
  {
   "cell_type": "markdown",
   "metadata": {},
   "source": [
    "#### <span style=\"color:purple\">11.1 RMSE </span>"
   ]
  },
  {
   "cell_type": "code",
   "metadata": {},
   "source": [
    "# Calcular el promedio de la suma de los errores al cuadrado RMSE\n",
    "from sklearn.metrics import mean_squared_error\n",
    "prediccion = reg_lin.predict(df_preparado)\n",
    "error = mean_squared_error(df_label,prediccion)\n",
    "error = np.sqrt(error)\n",
    "error"
   ],
   "outputs": [],
   "execution_count": null
  },
  {
   "cell_type": "code",
   "metadata": {},
   "source": [
    "#Sacar el promedio \n",
    "df_label.mean()"
   ],
   "outputs": [],
   "execution_count": null
  },
  {
   "cell_type": "code",
   "metadata": {},
   "source": [
    "#Calcular el porcentaje de acierto\n",
    "error/df.label.mean()"
   ],
   "outputs": [],
   "execution_count": null
  },
  {
   "cell_type": "markdown",
   "metadata": {},
   "source": [
    "***"
   ]
  },
  {
   "cell_type": "markdown",
   "metadata": {},
   "source": [
    "#### <span style=\"color:purple\">11.2 Árbol de Decisión </span>"
   ]
  },
  {
   "cell_type": "code",
   "metadata": {},
   "source": [
    "# importar DecisionTreeRegressor\n",
    "from sklearn.tree import DecisionTreeRegressor\n",
    "#crear objeto \n",
    "reg_arbol = DecisionTreeRegressor()\n",
    "#correrlo\n",
    "reg_arbol.fit(df_preparado,df_label)\n",
    "prediccion = reg_arbol.predict(df_preparado)\n",
    "#calcular el error\n",
    "error = mean_squared_error(df_label,prediccion)\n",
    "error = np.sqrt(error)\n",
    "error"
   ],
   "outputs": [],
   "execution_count": null
  },
  {
   "cell_type": "markdown",
   "metadata": {},
   "source": [
    "***"
   ]
  },
  {
   "cell_type": "markdown",
   "metadata": {},
   "source": [
    "#### <span style=\"color:purple\">11.3 Validación Cruzada </span>\n",
    "\n",
    "¡Anota esto porque es importante!"
   ]
  },
  {
   "cell_type": "code",
   "metadata": {},
   "source": [
    "#Importar cross_val_score, creo objeto, corro mi función\n",
    "from sklearn.model_selection import cross_val_score\n",
    "resultados = cross_val_score(reg_arbol, df_preparado, df_label, scoring=\"neg_mean_squared_error\",cv = 10)\n",
    "rmse = np.sqrt(-resultados)\n",
    "rmse"
   ],
   "outputs": [],
   "execution_count": null
  },
  {
   "cell_type": "code",
   "metadata": {},
   "source": [
    "#Calcular el porcentaje de acierto de validación cruzada \n",
    "rmse.mean()/df.label.mean()"
   ],
   "outputs": [],
   "execution_count": null
  },
  {
   "cell_type": "markdown",
   "metadata": {},
   "source": [
    "***"
   ]
  },
  {
   "cell_type": "markdown",
   "metadata": {},
   "source": [
    "#### <span style=\"color:purple\">11.4 Bosque Aleatorio </span>\n",
    "¡Este también es importante!"
   ]
  },
  {
   "cell_type": "code",
   "metadata": {},
   "source": [
    "#Importar RandomForestRegressor, creo objeto, corro mi función\n",
    "from sklearn.ensemble import RandomForestRegressor\n",
    "reg_forest = RandomForestRegressor()\n",
    "reg_forest.fit(df_preparado,df_label)\n",
    "prediccion = reg_forest.predict(df_preparado)\n",
    "\n",
    "#calcular el error\n",
    "error = mean_squared_error(df_label,prediccion)\n",
    "error = np.sqrt(error)\n",
    "error"
   ],
   "outputs": [],
   "execution_count": null
  },
  {
   "cell_type": "code",
   "metadata": {},
   "source": [
    "#Calcular el el promedio de la suma de los errores al cuadrado\n",
    "resultados = cross_val_score(reg_forest, df_preparado, df_label, scoring=\"neg_mean_squared_error\",cv = 10)\n",
    "rmse = np.sqrt(-resultados)\n",
    "rmse"
   ],
   "outputs": [],
   "execution_count": null
  },
  {
   "cell_type": "code",
   "metadata": {},
   "source": [
    "#Calcular el porcentaje de acierto de bosque aleatorio\n",
    "rmse.mean()/df.label.mean()"
   ],
   "outputs": [],
   "execution_count": null
  },
  {
   "cell_type": "markdown",
   "metadata": {},
   "source": [
    "***"
   ]
  },
  {
   "cell_type": "markdown",
   "metadata": {},
   "source": [
    "## <span style=\"color:purple\">12. Afinar el modelo </span>"
   ]
  },
  {
   "cell_type": "markdown",
   "metadata": {},
   "source": [
    "### <span style=\"color:purple\">12.1 Grid Search</span>"
   ]
  },
  {
   "cell_type": "code",
   "metadata": {},
   "source": [
    "#Importar GridSearchCV\n",
    "from sklearn.model_selection import GridSearchCV\n",
    "param_grid = [{\n",
    "    'n_estimators': [3,10,30], 'max_features': [2,4,6,8]\n",
    "}]\n",
    "grid_search = GridSearchCV(reg_forest,param_grid,cv=5,scoring='neg_mean_squared_error',return_train_score=True)\n",
    "grid_search.fit(df_preparado,df_label)\n",
    "#Calcular el mejor parámetro\n",
    "grid_search.best_params_\n",
    "#Ver el error\n",
    "np.sqrt(-grid_search.best_score_)"
   ],
   "outputs": [],
   "execution_count": null
  },
  {
   "cell_type": "markdown",
   "metadata": {},
   "source": [
    "***"
   ]
  },
  {
   "cell_type": "markdown",
   "metadata": {},
   "source": [
    "### <span style=\"color:purple\">12.2 set de prueba</span>"
   ]
  },
  {
   "cell_type": "code",
   "metadata": {},
   "source": [
    "#¡AHORA SI! A utilizar el set de prueba. Es la última parte \n",
    "\n",
    "#Define cuál es el modelo final \n",
    "modelo_final = grid_search.best_estimator_\n",
    "\n",
    "#Aquí definimos cuál será nuestra variable a predecir y las predichas \n",
    "Y = cat_set_prueba[\"average_price\"].copy()\n",
    "X = cat_set_prueba.drop(\"average_price\",axis=1)\n",
    "\n",
    "#Ahora, sí. El pipeline para limpieza de datos \n",
    "X_preparada = pipeline_completo.transform(X)\n",
    "prediccion_final = modelo_final.predict(X_preparada)\n",
    "\n",
    "#Por último, ver el error del modelo \n",
    "mse_final = mean_squared_error(Y, prediccion_final)\n",
    "rmse = np.sqrt(-mse_final)\n",
    "np.sqrt(mse_final)"
   ],
   "outputs": [],
   "execution_count": null
  },
  {
   "cell_type": "code",
   "metadata": {},
   "source": [
    "#Ver el porcentaje de acierto\n",
    "rmse/Y.mean()"
   ],
   "outputs": [],
   "execution_count": null
  }
 ],
 "metadata": {
  "kernelspec": {
   "display_name": "Python 3 (ipykernel)",
   "language": "python",
   "name": "python3"
  },
  "language_info": {
   "codemirror_mode": {
    "name": "ipython",
    "version": 3
   },
   "file_extension": ".py",
   "mimetype": "text/x-python",
   "name": "python",
   "nbconvert_exporter": "python",
   "pygments_lexer": "ipython3",
   "version": "3.9.7"
  }
 },
 "nbformat": 4,
 "nbformat_minor": 4
}
